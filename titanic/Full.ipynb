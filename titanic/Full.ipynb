{
 "cells": [
  {
   "cell_type": "markdown",
   "metadata": {},
   "source": [
    "# The real\n",
    "\n",
    "After having computed a baseline from which to judge our performance, lets see if we can break the 80% accuracy barrier. Since we have a limited dataset, we will use k-fold cross validation to estimate the accuracy of our model and will attempt a decision tree vs logistic regression.  This will require two sets of features, one for logistic regrression model(since 1-hot encoding is required) and one for the decision tree."
   ]
  },
  {
   "cell_type": "code",
   "execution_count": null,
   "metadata": {
    "collapsed": true
   },
   "outputs": [],
   "source": []
  }
 ],
 "metadata": {
  "kernelspec": {
   "display_name": "Python 3",
   "language": "python",
   "name": "python3"
  },
  "language_info": {
   "codemirror_mode": {
    "name": "ipython",
    "version": 3
   },
   "file_extension": ".py",
   "mimetype": "text/x-python",
   "name": "python",
   "nbconvert_exporter": "python",
   "pygments_lexer": "ipython3",
   "version": "3.6.2"
  }
 },
 "nbformat": 4,
 "nbformat_minor": 2
}
