{
 "cells": [
  {
   "cell_type": "markdown",
   "metadata": {},
   "source": [
    "#  Modeling\n",
    "\n",
    "This notebook will be used to create a model using generated test data."
   ]
  },
  {
   "cell_type": "code",
   "execution_count": 1,
   "metadata": {
    "collapsed": true
   },
   "outputs": [],
   "source": [
    "import os\n",
    "import sys\n",
    "module_path = os.path.abspath(os.path.join('../scripts/'))\n",
    "if module_path not in sys.path:\n",
    "    sys.path.append(module_path)\n",
    "\n",
    "import numpy as np\n",
    "import pandas as pd\n",
    "\n",
    "from sklearn import tree\n",
    "from sklearn import ensemble\n",
    "from sklearn import linear_model\n",
    "from sklearn import svm\n",
    "\n",
    "from sklearn.model_selection import cross_val_score\n",
    "from sklearn.model_selection import GridSearchCV\n",
    "\n",
    "import seaborn as sns\n",
    "import matplotlib.pyplot as plt\n",
    "%matplotlib inline\n",
    "\n",
    "import util"
   ]
  },
  {
   "cell_type": "code",
   "execution_count": 2,
   "metadata": {
    "collapsed": true
   },
   "outputs": [],
   "source": [
    "df = pd.read_csv('../data/features.csv', index_col=0)"
   ]
  },
  {
   "cell_type": "code",
   "execution_count": 3,
   "metadata": {
    "collapsed": true
   },
   "outputs": [],
   "source": [
    "target = 'Survived'\n",
    "\n",
    "train = df.loc[pd.notnull(df['Survived'])]\n",
    "test = df.loc[pd.isnull(df['Survived'])]\n",
    "\n",
    "y = train[target]\n",
    "labels = test['Id']\n",
    "\n",
    "del train[target]\n",
    "del test[target]\n",
    "del train['Id']\n",
    "del test['Id']\n",
    "\n",
    "X = train.copy()"
   ]
  },
  {
   "cell_type": "markdown",
   "metadata": {},
   "source": [
    "# Base Models\n",
    "\n",
    "Train a number of different base models for our ensemble approach.\n",
    "\n",
    "Create parameters. Taken from Anisotropic's [notebook](www.kaggle.com/arthurtok/introduction-to-ensembling-stacking-in-python)"
   ]
  },
  {
   "cell_type": "code",
   "execution_count": 4,
   "metadata": {
    "collapsed": true
   },
   "outputs": [],
   "source": [
    "seed = 1\n",
    "# Random Forest\n",
    "rf_params = {\n",
    "    'n_jobs': -1,\n",
    "    'n_estimators': 500,\n",
    "    'max_features': 'auto',\n",
    "    'max_depth': 6,\n",
    "    'min_samples_leaf': 2, \n",
    "    'random_state': seed\n",
    "}\n",
    "\n",
    "# Extra Trees\n",
    "et_params = {\n",
    "    'n_jobs': -1,\n",
    "    'n_estimators': 500,\n",
    "    'max_features': 'auto',\n",
    "    'max_depth': 8,\n",
    "    'min_samples_leaf': 2, \n",
    "    'random_state': seed\n",
    "}\n",
    "\n",
    "# AdaBoost\n",
    "ada_params = {\n",
    "    'n_estimators': 500,\n",
    "    'learning_rate': 0.75,\n",
    "    'random_state': seed\n",
    "}\n",
    "\n",
    "# Gradient Boosting\n",
    "gb_params = {\n",
    "    'n_estimators': 500,\n",
    "    'max_depth': 5,\n",
    "    'min_samples_leaf': 2, \n",
    "    'random_state': seed\n",
    "}\n",
    "\n",
    "# SVM\n",
    "svc_params = {\n",
    "    'kernel': 'linear',\n",
    "    'C': 0.025\n",
    "}"
   ]
  },
  {
   "cell_type": "code",
   "execution_count": 5,
   "metadata": {
    "collapsed": true
   },
   "outputs": [],
   "source": [
    "rf = ensemble.RandomForestClassifier(**rf_params)\n",
    "et = ensemble.ExtraTreesClassifier(**et_params)\n",
    "ada = ensemble.AdaBoostClassifier(**ada_params)\n",
    "gb = ensemble.GradientBoostingClassifier(**gb_params)\n",
    "svc = svm.SVC(**svc_params)"
   ]
  },
  {
   "cell_type": "code",
   "execution_count": 6,
   "metadata": {
    "collapsed": true
   },
   "outputs": [],
   "source": [
    "def print_acc(scores, name):\n",
    "    print('Model ' + name + ' scored accuracy of %0.5f (+/- %0.2f)' % (scores.mean(), scores.std() * 2))"
   ]
  },
  {
   "cell_type": "code",
   "execution_count": 7,
   "metadata": {},
   "outputs": [
    {
     "name": "stdout",
     "output_type": "stream",
     "text": [
      "Model rf scored accuracy of 0.83282 (+/- 0.08)\n",
      "Model et scored accuracy of 0.82830 (+/- 0.06)\n",
      "Model ada scored accuracy of 0.82609 (+/- 0.06)\n",
      "Model gb scored accuracy of 0.81714 (+/- 0.08)\n",
      "Model svc scored accuracy of 0.80695 (+/- 0.06)\n"
     ]
    }
   ],
   "source": [
    "rf_scores = cross_val_score(rf, X, y, cv=10)\n",
    "et_scores = cross_val_score(et, X, y, cv=10)\n",
    "ada_scores = cross_val_score(ada, X, y, cv=10)\n",
    "gb_scores = cross_val_score(gb, X, y, cv=10)\n",
    "svc_scores = cross_val_score(svc, X, y, cv=10)\n",
    "\n",
    "# Print results\n",
    "print_acc(rf_scores, 'rf')\n",
    "print_acc(et_scores, 'et')\n",
    "print_acc(ada_scores, 'ada')\n",
    "print_acc(gb_scores, 'gb')\n",
    "print_acc(svc_scores, 'svc')"
   ]
  },
  {
   "cell_type": "markdown",
   "metadata": {},
   "source": [
    "Create predictions on the test set."
   ]
  },
  {
   "cell_type": "code",
   "execution_count": 8,
   "metadata": {
    "collapsed": true
   },
   "outputs": [],
   "source": [
    "base_test_predictions = pd.DataFrame()\n",
    "base_test_predictions['rf'] = rf.fit(X, y).predict(test)\n",
    "base_test_predictions['et'] = et.fit(X, y).predict(test)\n",
    "base_test_predictions['ada'] = ada.fit(X, y).predict(test)\n",
    "base_test_predictions['gb'] = gb.fit(X, y).predict(test)\n",
    "base_test_predictions['svc'] = svc.fit(X, y).predict(test)"
   ]
  },
  {
   "cell_type": "markdown",
   "metadata": {},
   "source": [
    "## Feature Importance"
   ]
  },
  {
   "cell_type": "markdown",
   "metadata": {},
   "source": [
    "# Second Layer"
   ]
  },
  {
   "cell_type": "code",
   "execution_count": 10,
   "metadata": {
    "scrolled": true
   },
   "outputs": [],
   "source": [
    "util.save_submission(base_test_predictions.mode(axis=1)[0].ravel(), labels, name='../submissions/majority.csv') "
   ]
  }
 ],
 "metadata": {
  "kernelspec": {
   "display_name": "Python 3",
   "language": "python",
   "name": "python3"
  },
  "language_info": {
   "codemirror_mode": {
    "name": "ipython",
    "version": 3
   },
   "file_extension": ".py",
   "mimetype": "text/x-python",
   "name": "python",
   "nbconvert_exporter": "python",
   "pygments_lexer": "ipython3",
   "version": "3.5.2"
  }
 },
 "nbformat": 4,
 "nbformat_minor": 2
}
